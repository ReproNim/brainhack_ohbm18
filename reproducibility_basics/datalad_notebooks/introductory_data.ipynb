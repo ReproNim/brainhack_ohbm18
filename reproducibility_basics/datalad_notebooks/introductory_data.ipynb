{
 "cells": [
  {
   "cell_type": "markdown",
   "metadata": {},
   "source": [
    "# Versioning data"
   ]
  },
  {
   "cell_type": "markdown",
   "metadata": {},
   "source": [
    "In this notebook we will look at using tools to version data. Specifically, [git-annex](https://git-annex.branchable.com/) and [datalad](http://datalad.org/)\n",
    "\n",
    "- Initializing, searching, downloading, and removing (dropping) a datalad dataset\n",
    "- Creating and modifying a datalad dataset"
   ]
  },
  {
   "cell_type": "markdown",
   "metadata": {},
   "source": [
    "### Let's start by using the shell version\n",
    "\n",
    "**The `!` character at the beginning of the next line indicates that the subsequent command will be executed in a shell. We will be also using `%%bash` to run a multi-line expression.** \n",
    "\n",
    "In the following section we are generating the help command. The `--help-np` option ensures that the underlying help output does not page. Since the notebook does not support paging, we will be using this option."
   ]
  },
  {
   "cell_type": "code",
   "execution_count": null,
   "metadata": {},
   "outputs": [],
   "source": [
    "# we will be typing here"
   ]
  },
  {
   "cell_type": "code",
   "execution_count": 1,
   "metadata": {},
   "outputs": [
    {
     "name": "stdout",
     "output_type": "stream",
     "text": [
      "Usage: datalad [global-opts] command [command-opts]\r\n",
      "\r\n",
      "Comprehensive data management solution\r\n",
      "\r\n",
      "DataLad provides a unified data distribution system built on the Git\r\n",
      "and Git-annex. DataLad command line tools allow to manipulate (obtain,\r\n",
      "create, update, publish, etc.) datasets and provide a comprehensive\r\n",
      "toolbox for joint management of data and code. Compared to Git/annex\r\n",
      "it primarly extends their functionality to transparently and\r\n",
      "simultaneously work with multiple inter-related repositories.\r\n",
      "\r\n",
      "*Commands for dataset operations*\r\n",
      "\r\n",
      "  create\r\n",
      "      Create a new dataset from scratch\r\n",
      "  install\r\n",
      "      Install a dataset from a (remote) source\r\n",
      "  get\r\n",
      "      Get any dataset content (files/directories/subdatasets)\r\n",
      "  add\r\n",
      "      Add files/directories to an existing dataset\r\n",
      "  publish\r\n",
      "      Publish a dataset to a known sibling\r\n",
      "  uninstall\r\n",
      "      Uninstall subdatasets\r\n",
      "  drop\r\n",
      "      Drop file content from datasets\r\n",
      "  remove\r\n",
      "      Remove components from datasets\r\n",
      "  update\r\n",
      "      Update a dataset from a sibling\r\n",
      "  create-sibling\r\n",
      "      Create a dataset sibling on a UNIX-like SSH-accessible machine\r\n",
      "  create-sibling-github\r\n",
      "      Create dataset sibling on Github\r\n",
      "  unlock\r\n",
      "      Unlock file(s) of a dataset\r\n",
      "  save\r\n",
      "      Save the current state of a dataset\r\n",
      "\r\n",
      "*Commands for metadata handling*\r\n",
      "\r\n",
      "  search\r\n",
      "      Search dataset metadata\r\n",
      "  metadata\r\n",
      "      Metadata reporting for files and entire datasets\r\n",
      "  aggregate-metadata\r\n",
      "      Aggregate metadata of one or more datasets for later query\r\n",
      "  extract-metadata\r\n",
      "      Run one or more of DataLad's metadata extractors on a dataset or file\r\n",
      "\r\n",
      "*Miscellaneous commands*\r\n",
      "\r\n",
      "  test\r\n",
      "      Run internal DataLad (unit)tests\r\n",
      "  ls\r\n",
      "      List summary information about URLs and dataset(s)\r\n",
      "  clean\r\n",
      "      Clean up after DataLad (possible temporary files etc.)\r\n",
      "  add-archive-content\r\n",
      "      Add content of an archive under git annex control\r\n",
      "  download-url\r\n",
      "      Download content\r\n",
      "  run\r\n",
      "      Run an arbitrary shell command and record its impact on a dataset\r\n",
      "  rerun\r\n",
      "      Re-execute previous `datalad run` commands\r\n",
      "  run-procedure\r\n",
      "      Run prepared procedures (DataLad scripts) on a dataset\r\n",
      "\r\n",
      "*Plugins*\r\n",
      "\r\n",
      "  no-annex\r\n",
      "      Configure a dataset to never put some content into the dataset's\r\n",
      "      annex\r\n",
      "  addurls\r\n",
      "      Create and update a dataset from a list of URLs\r\n",
      "  add-readme\r\n",
      "      Add basic information about DataLad datasets to a README file\r\n",
      "  wtf\r\n",
      "      Generate a report about the DataLad installation and configuration\r\n",
      "  export-archive\r\n",
      "      Export the content of a dataset as a TAR/ZIP archive\r\n",
      "  check-dates\r\n",
      "      Find repository dates that are more recent than a reference date\r\n",
      "  export-to-figshare\r\n",
      "      Export the content of a dataset as a ZIP archive to figshare\r\n",
      "\r\n",
      "*Plumbing commands*\r\n",
      "\r\n",
      "  annotate-paths\r\n",
      "      Analyze and act upon input paths\r\n",
      "  clone\r\n",
      "      Obtain a dataset copy from a URL or local source (path)\r\n",
      "  create-test-dataset\r\n",
      "      Create test (meta-)dataset\r\n",
      "  diff\r\n",
      "      Report changes of dataset components\r\n",
      "  siblings\r\n",
      "      Manage sibling configuration\r\n",
      "  sshrun\r\n",
      "      Run command on remote machines via SSH\r\n",
      "  subdatasets\r\n",
      "      Report subdatasets and their properties\r\n",
      "\r\n",
      "*General information*\r\n",
      "\r\n",
      "Detailed usage information for individual commands is available via\r\n",
      "command-specific --help, i.e.: datalad <command> --help\r\n",
      "\r\n",
      "\r\n",
      "*Global options*\r\n",
      "  -l LEVEL, --log-level LEVEL\r\n",
      "                        set logging verbosity level. Choose among critical,\r\n",
      "                        error, warning, info, debug. Also you can specify an\r\n",
      "                        integer <10 to provide even more debugging information\r\n",
      "  --pbs-runner {condor}\r\n",
      "                        execute command by scheduling it via available PBS.\r\n",
      "                        For settings, config file will be consulted\r\n",
      "  -C PATH               run as if datalad was started in <path> instead of the\r\n",
      "                        current working directory. When multiple -C options\r\n",
      "                        are given, each subsequent non-absolute -C <path> is\r\n",
      "                        interpreted relative to the preceding -C <path>. This\r\n",
      "                        option affects the interpretations of the path names\r\n",
      "                        in that they are made relative to the working\r\n",
      "                        directory caused by the -C option\r\n",
      "  --version             show the program's version and license information\r\n",
      "  --dbg                 enter Python debugger when uncaught exception happens\r\n",
      "  --idbg                enter IPython debugger when uncaught exception happens\r\n",
      "  -c KEY=VALUE          configuration variable setting. Overrides any\r\n",
      "                        configuration read from a file, but is potentially\r\n",
      "                        overridden itself by configuration variables in the\r\n",
      "                        process environment.\r\n",
      "  -f {default,json,json_pp,tailored,'<template>'}, --output-format {default,json,json_pp,tailored,'<template>'}\r\n",
      "                        select format for returned command results. 'default'\r\n",
      "                        give one line per result reporting action, status,\r\n",
      "                        path and an optional message; 'json' renders a JSON\r\n",
      "                        object with all properties for each result (one per\r\n",
      "                        line); 'json_pp' pretty-prints JSON spanning multiple\r\n",
      "                        lines; 'tailored' enables a command-specific rendering\r\n",
      "                        style that is typically tailored to human consumption\r\n",
      "                        (no result output otherwise), '<template>' reports any\r\n",
      "                        value(s) of any result properties in any format\r\n",
      "                        indicated by the template (e.g. '{path}'; compare with\r\n",
      "                        JSON output for all key-value choices). The template\r\n",
      "                        syntax follows the Python \"format() language\". It is\r\n",
      "                        possible to report individual dictionary values, e.g.\r\n",
      "                        '{metadata[name]}'. If a 2nd-level key contains a\r\n",
      "                        colon, e.g. 'music:Genre', ':' must be substituted by\r\n",
      "                        '#' in the template, like so:\r\n",
      "                        '{metadata[music#Genre]}'.\r\n",
      "  --report-status {success,failure,ok,notneeded,impossible,error}\r\n",
      "                        constrain command result report to records matching\r\n",
      "                        the given status. 'success' is a synonym for 'ok' OR\r\n",
      "                        'notneeded', 'failure' stands for 'impossible' OR\r\n",
      "                        'error'.\r\n",
      "  --report-type {dataset,file}\r\n",
      "                        constrain command result report to records matching\r\n",
      "                        the given type. Can be given more than once to match\r\n",
      "                        multiple types.\r\n",
      "  --on-failure {ignore,continue,stop}\r\n",
      "                        when an operation fails: 'ignore' and continue with\r\n",
      "                        remaining operations, the error is logged but does not\r\n",
      "                        lead to a non-zero exit code of the command;\r\n",
      "                        'continue' works like 'ignore', but an error causes a\r\n",
      "                        non-zero exit code; 'stop' halts on first failure and\r\n",
      "                        yields non-zero exit code. A failure is any result\r\n",
      "                        with status 'impossible' or 'error'.\r\n",
      "  --proc-pre <PROCEDURE NAME> [ARGS ...]\r\n",
      "                        Dataset procedure to run before the main command (see\r\n",
      "                        run-procedure command for details). This option can be\r\n",
      "                        given more than once to run multiple procedures in the\r\n",
      "                        order in which they were given. It is important to\r\n",
      "                        specify the target dataset via the --dataset argument\r\n",
      "                        of the main command.\r\n",
      "  --proc-post <PROCEDURE NAME> [ARGS ...]\r\n",
      "                        Like --proc-pre, but procedures are executed after the\r\n",
      "                        main command has finished.\r\n",
      "  --cmd                 syntactical helper that can be used to end the list of\r\n",
      "                        global command line options before the subcommand\r\n",
      "                        label. Options like --proc-pre can take an arbitrary\r\n",
      "                        number of arguments and may require to be followed by\r\n",
      "                        a single --cmd in order to enable identification of\r\n",
      "                        the subcommand.\r\n",
      "  -h, --help, --help-np\r\n",
      "                        show this help message. --help-np forcefully disables\r\n",
      "                        the use of a pager for displaying the help message\r\n",
      "\r\n",
      "\"Be happy!\"\r\n",
      "\r\n"
     ]
    }
   ],
   "source": [
    "!datalad --help-np"
   ]
  },
  {
   "cell_type": "markdown",
   "metadata": {},
   "source": [
    "#### Exercise 1: Generate the help for the install command of datalad."
   ]
  },
  {
   "cell_type": "code",
   "execution_count": null,
   "metadata": {
    "solution2": "hidden",
    "solution2_first": true
   },
   "outputs": [],
   "source": [
    "# write your solution here:"
   ]
  },
  {
   "cell_type": "code",
   "execution_count": null,
   "metadata": {
    "scrolled": true,
    "solution2": "hidden"
   },
   "outputs": [],
   "source": [
    "!datalad install --help-np"
   ]
  },
  {
   "cell_type": "markdown",
   "metadata": {},
   "source": [
    "### datalad install\n",
    "\n",
    "We will install the datalad metadataset. Note this only installs the top level directory structure"
   ]
  },
  {
   "cell_type": "code",
   "execution_count": 2,
   "metadata": {},
   "outputs": [
    {
     "name": "stdout",
     "output_type": "stream",
     "text": [
      "install(ok): /home/neuro/data/datasets.datalad.org (dataset)\n"
     ]
    },
    {
     "name": "stderr",
     "output_type": "stream",
     "text": [
      "[INFO] Cloning http://datasets.datalad.org/ to '/home/neuro/data/datasets.datalad.org' \n",
      "[WARNING] It is highly recommended to configure git first (set both user.name and user.email) before using DataLad. Failed to verify that git is configured: CommandError: command '['git', 'config', 'user.name']' failed with exitcode 1\n",
      "| Failed to run ['git', 'config', 'user.name'] under None. Exit code=1. out= err= [cmd.py:run:530]CommandError: command '['git', 'config', 'user.email']' failed with exitcode 1\n",
      "| Failed to run ['git', 'config', 'user.email'] under None. Exit code=1. out= err= [cmd.py:run:530].  Some operations might fail or not perform correctly. \n"
     ]
    }
   ],
   "source": [
    "%%bash\n",
    "\n",
    "mkdir ~/data\n",
    "cd ~/data\n",
    "datalad install /// "
   ]
  },
  {
   "cell_type": "markdown",
   "metadata": {},
   "source": [
    "#### Exercise 2\n",
    "\n",
    "List the contents of the installed dataset using the tree command up to three levels"
   ]
  },
  {
   "cell_type": "code",
   "execution_count": null,
   "metadata": {
    "solution2": "shown",
    "solution2_first": true
   },
   "outputs": [],
   "source": [
    "# write your solution here:"
   ]
  },
  {
   "cell_type": "code",
   "execution_count": 3,
   "metadata": {
    "solution2": "shown"
   },
   "outputs": [
    {
     "name": "stdout",
     "output_type": "stream",
     "text": [
      "/home/neuro/data/datasets.datalad.org/\n",
      "├── abide\n",
      "├── abide2\n",
      "├── adhd200\n",
      "├── corr\n",
      "├── crcns\n",
      "├── datapackage.json\n",
      "├── dbic\n",
      "├── devel\n",
      "├── dicoms\n",
      "├── hbnssi\n",
      "├── indi\n",
      "├── kaggle\n",
      "├── labs\n",
      "├── neurovault\n",
      "├── nidm\n",
      "├── openfmri\n",
      "└── workshops\n",
      "\n",
      "16 directories, 1 file\n"
     ]
    }
   ],
   "source": [
    "%%bash\n",
    "\n",
    "tree -L 3 ~/data/datasets.datalad.org/"
   ]
  },
  {
   "cell_type": "markdown",
   "metadata": {},
   "source": [
    "Note that only the top level datasets are created."
   ]
  },
  {
   "cell_type": "markdown",
   "metadata": {},
   "source": [
    "### dtalad search\n",
    "Another useful command is to `search` for information across datalad datasets."
   ]
  },
  {
   "cell_type": "markdown",
   "metadata": {},
   "source": [
    "let's start from displaying the help for the search command:"
   ]
  },
  {
   "cell_type": "code",
   "execution_count": null,
   "metadata": {
    "scrolled": true
   },
   "outputs": [],
   "source": [
    "!datalad search --help-np"
   ]
  },
  {
   "cell_type": "markdown",
   "metadata": {},
   "source": [
    "Now let's search for datasets containing information about Jim Haxby"
   ]
  },
  {
   "cell_type": "code",
   "execution_count": 4,
   "metadata": {},
   "outputs": [
    {
     "name": "stdout",
     "output_type": "stream",
     "text": [
      "[\u001b[1;33mWARNING\u001b[0m] It is highly recommended to configure git first (set both user.name and user.email) before using DataLad. Failed to verify that git is configured: CommandError: command '['git', 'config', 'user.name']' failed with exitcode 1\n",
      "| Failed to run ['git', 'config', 'user.name'] under None. Exit code=1. out= err= [cmd.py:run:530]CommandError: command '['git', 'config', 'user.email']' failed with exitcode 1\n",
      "| Failed to run ['git', 'config', 'user.email'] under None. Exit code=1. out= err= [cmd.py:run:530].  Some operations might fail or not perform correctly. \n",
      "Total (20 ok out of 61):  19%|██▋           | 1.44M/7.49M [00:01<00:06, 951kB/s]\n",
      "Total (21 ok out of 61):  20%|██▊           | 1.49M/7.49M [00:01<00:06, 951kB/s]\u001b[A\n",
      "                                                                                \u001b[A\n",
      "Total (36 ok out of 61):  34%|████▍        | 2.58M/7.49M [00:01<00:03, 1.45MB/s]\u001b[A\n",
      "Total (37 ok out of 61):  37%|████▊        | 2.78M/7.49M [00:01<00:03, 1.45MB/s]\u001b[A\n",
      "Total (47 ok out of 61):  78%|██████████   | 5.82M/7.49M [00:02<00:00, 2.24MB/s]\u001b[A\n",
      "Total (60 ok out of 61):  93%|████████████ | 6.98M/7.49M [00:02<00:00, 1.96MB/s]\u001b[A\n",
      ".datalad/me .. 7e957f0ae0f:  43%|█████▌       | 383k/888k [00:00<00:00, 763kB/s]\u001b[A\n",
      "Total (60 ok out of 61): 100%|████████████▉| 7.47M/7.49M [00:03<00:00, 1.03MB/s]\u001b[A\n",
      "Total (61 ok out of 61): 100%|█████████████| 7.49M/7.49M [00:04<00:00, 1.03MB/s]\u001b[A\n",
      "\u001b[1;1msearch\u001b[0m(\u001b[1;32mok\u001b[0m): /home/neuro/data/datasets.datalad.org/hbnssi (\u001b[1;35mdataset\u001b[0m)\n",
      "\u001b[1;1msearch\u001b[0m(\u001b[1;32mok\u001b[0m): /home/neuro/data/datasets.datalad.org/labs (\u001b[1;35mdataset\u001b[0m)\n",
      "\u001b[1;1msearch\u001b[0m(\u001b[1;32mok\u001b[0m): /home/neuro/data/datasets.datalad.org/labs/gobbini/famface/data (\u001b[1;35mdataset\u001b[0m)\n",
      "\u001b[1;1msearch\u001b[0m(\u001b[1;32mok\u001b[0m): /home/neuro/data/datasets.datalad.org/labs/haxby (\u001b[1;35mdataset\u001b[0m)\n",
      "\u001b[1;1msearch\u001b[0m(\u001b[1;32mok\u001b[0m): /home/neuro/data/datasets.datalad.org/labs/haxby/attention (\u001b[1;35mdataset\u001b[0m)\n",
      "\u001b[1;1msearch\u001b[0m(\u001b[1;32mok\u001b[0m): /home/neuro/data/datasets.datalad.org/labs/haxby/life (\u001b[1;35mdataset\u001b[0m)\n",
      "\u001b[1;1msearch\u001b[0m(\u001b[1;32mok\u001b[0m): /home/neuro/data/datasets.datalad.org/labs/haxby/raiders (\u001b[1;35mdataset\u001b[0m)\n",
      "\u001b[1;1msearch\u001b[0m(\u001b[1;32mok\u001b[0m): /home/neuro/data/datasets.datalad.org/openfmri/ds000105 (\u001b[1;35mdataset\u001b[0m)\n",
      "\u001b[1;1msearch\u001b[0m(\u001b[1;32mok\u001b[0m): /home/neuro/data/datasets.datalad.org/openfmri/ds000233 (\u001b[1;35mdataset\u001b[0m)\n",
      "\u001b[1;1msearch\u001b[0m(\u001b[1;32mok\u001b[0m): /home/neuro/data/datasets.datalad.org/openfmri/ds000241 (\u001b[1;35mdataset\u001b[0m)\n",
      "action summary:\n",
      "  search (ok: 10)\n"
     ]
    }
   ],
   "source": [
    "!datalad search -d ~/data/datasets.datalad.org haxby"
   ]
  },
  {
   "cell_type": "markdown",
   "metadata": {},
   "source": [
    "#### Exercise 3:\n",
    "\n",
    "Search for information about datasets related to chris gorgolewski, using `gorgolewski` as the keyword."
   ]
  },
  {
   "cell_type": "code",
   "execution_count": null,
   "metadata": {
    "solution2": "shown",
    "solution2_first": true
   },
   "outputs": [],
   "source": [
    "#type your solution here:"
   ]
  },
  {
   "cell_type": "code",
   "execution_count": 5,
   "metadata": {
    "solution2": "shown"
   },
   "outputs": [
    {
     "name": "stdout",
     "output_type": "stream",
     "text": [
      "[\u001b[1;33mWARNING\u001b[0m] It is highly recommended to configure git first (set both user.name and user.email) before using DataLad. Failed to verify that git is configured: CommandError: command '['git', 'config', 'user.name']' failed with exitcode 1\n",
      "| Failed to run ['git', 'config', 'user.name'] under None. Exit code=1. out= err= [cmd.py:run:530]CommandError: command '['git', 'config', 'user.email']' failed with exitcode 1\n",
      "| Failed to run ['git', 'config', 'user.email'] under None. Exit code=1. out= err= [cmd.py:run:530].  Some operations might fail or not perform correctly. \n",
      "\u001b[1;1msearch\u001b[0m(\u001b[1;32mok\u001b[0m): /home/neuro/data/datasets.datalad.org/openfmri/ds000114 (\u001b[1;35mdataset\u001b[0m)\n",
      "\u001b[1;1msearch\u001b[0m(\u001b[1;32mok\u001b[0m): /home/neuro/data/datasets.datalad.org/openfmri/ds000158 (\u001b[1;35mdataset\u001b[0m)\n",
      "\u001b[1;1msearch\u001b[0m(\u001b[1;32mok\u001b[0m): /home/neuro/data/datasets.datalad.org/openfmri/ds000221 (\u001b[1;35mdataset\u001b[0m)\n",
      "\u001b[1;1msearch\u001b[0m(\u001b[1;32mok\u001b[0m): /home/neuro/data/datasets.datalad.org/workshops/nipype-2017/ds000114 (\u001b[1;35mdataset\u001b[0m)\n",
      "action summary:\n",
      "  search (ok: 4)\n"
     ]
    }
   ],
   "source": [
    "!datalad search -d ~/data/datasets.datalad.org gorgolewski"
   ]
  },
  {
   "cell_type": "markdown",
   "metadata": {},
   "source": [
    "#### Exercise 4:\n",
    "\n",
    "Install one of the dataset - ds0000114 and look at the contents of the dataset upto three levels using the tree command."
   ]
  },
  {
   "cell_type": "code",
   "execution_count": null,
   "metadata": {
    "solution2": "shown",
    "solution2_first": true
   },
   "outputs": [],
   "source": [
    "# type your code here:"
   ]
  },
  {
   "cell_type": "code",
   "execution_count": 6,
   "metadata": {
    "solution2": "shown"
   },
   "outputs": [
    {
     "name": "stdout",
     "output_type": "stream",
     "text": [
      "install(ok): /home/neuro/data/datasets.datalad.org/workshops/nih-2017/ds000114 (dataset) [Installed subdataset in order to get /home/neuro/data/datasets.datalad.org/workshops/nih-2017/ds000114]\n",
      "action summary:\n",
      "  install (ok: 3)\n"
     ]
    },
    {
     "name": "stderr",
     "output_type": "stream",
     "text": [
      "[WARNING] It is highly recommended to configure git first (set both user.name and user.email) before using DataLad. Failed to verify that git is configured: CommandError: command '['git', 'config', 'user.name']' failed with exitcode 1\n",
      "| Failed to run ['git', 'config', 'user.name'] under None. Exit code=1. out= err= [cmd.py:run:530]CommandError: command '['git', 'config', 'user.email']' failed with exitcode 1\n",
      "| Failed to run ['git', 'config', 'user.email'] under None. Exit code=1. out= err= [cmd.py:run:530].  Some operations might fail or not perform correctly. \n",
      "[INFO] Cloning http://datasets.datalad.org/workshops/.git to '/home/neuro/data/datasets.datalad.org/workshops' \n",
      "[INFO] Cloning http://datasets.datalad.org/workshops/nih-2017/.git to '/home/neuro/data/datasets.datalad.org/workshops/nih-2017' \n",
      "[INFO] Cloning http://datasets.datalad.org/workshops/nih-2017/ds000114/.git to '/home/neuro/data/datasets.datalad.org/workshops/nih-2017/ds000114' \n",
      "[INFO] access to dataset sibling \"datalad\" not auto-enabled, enable with:\n",
      "| \t\tdatalad siblings -d \"/home/neuro/data/datasets.datalad.org/workshops/nih-2017/ds000114\" enable -s datalad \n"
     ]
    }
   ],
   "source": [
    "%%bash \n",
    "\n",
    "datalad install ~/data/datasets.datalad.org/workshops/nih-2017/ds000114"
   ]
  },
  {
   "cell_type": "code",
   "execution_count": 7,
   "metadata": {
    "solution2": "shown"
   },
   "outputs": [
    {
     "name": "stdout",
     "output_type": "stream",
     "text": [
      "\u001b[01;34m/home/neuro/data/datasets.datalad.org/workshops/nih-2017/ds000114\u001b[00m\r\n",
      "├── CHANGES\r\n",
      "├── dataset_description.json\r\n",
      "├── \u001b[01;34mderivatives\u001b[00m\r\n",
      "│   ├── \u001b[01;34mfmriprep\u001b[00m\r\n",
      "│   └── \u001b[01;34mfreesurfer\u001b[00m\r\n",
      "├── \u001b[40;31;01mdwi.bval\u001b[00m -> \u001b[00m.git/annex/objects/JX/4K/MD5E-s335--5bd6fa32ccd0c79e79f9ac63a2c09c1a.bval/MD5E-s335--5bd6fa32ccd0c79e79f9ac63a2c09c1a.bval\u001b[00m\r\n",
      "├── \u001b[40;31;01mdwi.bvec\u001b[00m -> \u001b[00m.git/annex/objects/Pg/wk/MD5E-s1248--0641c68ff6ee6164928c984541653430.bvec/MD5E-s1248--0641c68ff6ee6164928c984541653430.bvec\u001b[00m\r\n",
      "├── \u001b[01;34msub-01\u001b[00m\r\n",
      "│   ├── \u001b[01;34mses-retest\u001b[00m\r\n",
      "│   │   ├── \u001b[01;34manat\u001b[00m\r\n",
      "│   │   ├── \u001b[01;34mdwi\u001b[00m\r\n",
      "│   │   └── \u001b[01;34mfunc\u001b[00m\r\n",
      "│   └── \u001b[01;34mses-test\u001b[00m\r\n",
      "│       ├── \u001b[01;34manat\u001b[00m\r\n",
      "│       ├── \u001b[01;34mdwi\u001b[00m\r\n",
      "│       └── \u001b[01;34mfunc\u001b[00m\r\n",
      "├── \u001b[01;34msub-02\u001b[00m\r\n",
      "│   ├── \u001b[01;34mses-retest\u001b[00m\r\n",
      "│   │   ├── \u001b[01;34manat\u001b[00m\r\n",
      "│   │   ├── \u001b[01;34mdwi\u001b[00m\r\n",
      "│   │   └── \u001b[01;34mfunc\u001b[00m\r\n",
      "│   └── \u001b[01;34mses-test\u001b[00m\r\n",
      "│       ├── \u001b[01;34manat\u001b[00m\r\n",
      "│       ├── \u001b[01;34mdwi\u001b[00m\r\n",
      "│       └── \u001b[01;34mfunc\u001b[00m\r\n",
      "├── \u001b[01;34msub-03\u001b[00m\r\n",
      "│   ├── \u001b[01;34mses-retest\u001b[00m\r\n",
      "│   │   ├── \u001b[01;34manat\u001b[00m\r\n",
      "│   │   ├── \u001b[01;34mdwi\u001b[00m\r\n",
      "│   │   └── \u001b[01;34mfunc\u001b[00m\r\n",
      "│   └── \u001b[01;34mses-test\u001b[00m\r\n",
      "│       ├── \u001b[01;34manat\u001b[00m\r\n",
      "│       ├── \u001b[01;34mdwi\u001b[00m\r\n",
      "│       └── \u001b[01;34mfunc\u001b[00m\r\n",
      "├── \u001b[01;34msub-04\u001b[00m\r\n",
      "│   ├── \u001b[01;34mses-retest\u001b[00m\r\n",
      "│   │   ├── \u001b[01;34manat\u001b[00m\r\n",
      "│   │   ├── \u001b[01;34mdwi\u001b[00m\r\n",
      "│   │   └── \u001b[01;34mfunc\u001b[00m\r\n",
      "│   └── \u001b[01;34mses-test\u001b[00m\r\n",
      "│       ├── \u001b[01;34manat\u001b[00m\r\n",
      "│       ├── \u001b[01;34mdwi\u001b[00m\r\n",
      "│       └── \u001b[01;34mfunc\u001b[00m\r\n",
      "├── \u001b[01;34msub-05\u001b[00m\r\n",
      "│   ├── \u001b[01;34mses-retest\u001b[00m\r\n",
      "│   │   ├── \u001b[01;34manat\u001b[00m\r\n",
      "│   │   ├── \u001b[01;34mdwi\u001b[00m\r\n",
      "│   │   └── \u001b[01;34mfunc\u001b[00m\r\n",
      "│   └── \u001b[01;34mses-test\u001b[00m\r\n",
      "│       ├── \u001b[01;34manat\u001b[00m\r\n",
      "│       ├── \u001b[01;34mdwi\u001b[00m\r\n",
      "│       └── \u001b[01;34mfunc\u001b[00m\r\n",
      "├── \u001b[01;34msub-06\u001b[00m\r\n",
      "│   ├── \u001b[01;34mses-retest\u001b[00m\r\n",
      "│   │   ├── \u001b[01;34manat\u001b[00m\r\n",
      "│   │   ├── \u001b[01;34mdwi\u001b[00m\r\n",
      "│   │   └── \u001b[01;34mfunc\u001b[00m\r\n",
      "│   └── \u001b[01;34mses-test\u001b[00m\r\n",
      "│       ├── \u001b[01;34manat\u001b[00m\r\n",
      "│       ├── \u001b[01;34mdwi\u001b[00m\r\n",
      "│       └── \u001b[01;34mfunc\u001b[00m\r\n",
      "├── \u001b[01;34msub-07\u001b[00m\r\n",
      "│   ├── \u001b[01;34mses-retest\u001b[00m\r\n",
      "│   │   ├── \u001b[01;34manat\u001b[00m\r\n",
      "│   │   ├── \u001b[01;34mdwi\u001b[00m\r\n",
      "│   │   └── \u001b[01;34mfunc\u001b[00m\r\n",
      "│   └── \u001b[01;34mses-test\u001b[00m\r\n",
      "│       ├── \u001b[01;34manat\u001b[00m\r\n",
      "│       ├── \u001b[01;34mdwi\u001b[00m\r\n",
      "│       └── \u001b[01;34mfunc\u001b[00m\r\n",
      "├── \u001b[01;34msub-08\u001b[00m\r\n",
      "│   ├── \u001b[01;34mses-retest\u001b[00m\r\n",
      "│   │   ├── \u001b[01;34manat\u001b[00m\r\n",
      "│   │   ├── \u001b[01;34mdwi\u001b[00m\r\n",
      "│   │   └── \u001b[01;34mfunc\u001b[00m\r\n",
      "│   └── \u001b[01;34mses-test\u001b[00m\r\n",
      "│       ├── \u001b[01;34manat\u001b[00m\r\n",
      "│       ├── \u001b[01;34mdwi\u001b[00m\r\n",
      "│       └── \u001b[01;34mfunc\u001b[00m\r\n",
      "├── \u001b[01;34msub-09\u001b[00m\r\n",
      "│   ├── \u001b[01;34mses-retest\u001b[00m\r\n",
      "│   │   ├── \u001b[01;34manat\u001b[00m\r\n",
      "│   │   ├── \u001b[01;34mdwi\u001b[00m\r\n",
      "│   │   └── \u001b[01;34mfunc\u001b[00m\r\n",
      "│   └── \u001b[01;34mses-test\u001b[00m\r\n",
      "│       ├── \u001b[01;34manat\u001b[00m\r\n",
      "│       ├── \u001b[01;34mdwi\u001b[00m\r\n",
      "│       └── \u001b[01;34mfunc\u001b[00m\r\n",
      "├── \u001b[01;34msub-10\u001b[00m\r\n",
      "│   ├── \u001b[01;34mses-retest\u001b[00m\r\n",
      "│   │   ├── \u001b[01;34manat\u001b[00m\r\n",
      "│   │   ├── \u001b[01;34mdwi\u001b[00m\r\n",
      "│   │   └── \u001b[01;34mfunc\u001b[00m\r\n",
      "│   └── \u001b[01;34mses-test\u001b[00m\r\n",
      "│       ├── \u001b[01;34manat\u001b[00m\r\n",
      "│       ├── \u001b[01;34mdwi\u001b[00m\r\n",
      "│       └── \u001b[01;34mfunc\u001b[00m\r\n",
      "├── task-covertverbgeneration_bold.json\r\n",
      "├── task-covertverbgeneration_events.tsv\r\n",
      "├── task-fingerfootlips_bold.json\r\n",
      "├── task-fingerfootlips_events.tsv\r\n",
      "├── task-linebisection_bold.json\r\n",
      "├── task-overtverbgeneration_bold.json\r\n",
      "├── task-overtverbgeneration_events.tsv\r\n",
      "├── task-overtwordrepetition_bold.json\r\n",
      "└── task-overtwordrepetition_events.tsv\r\n",
      "\r\n",
      "93 directories, 13 files\r\n"
     ]
    }
   ],
   "source": [
    "!tree -L 3 ~/data/datasets.datalad.org/workshops/nih-2017/ds000114"
   ]
  },
  {
   "cell_type": "markdown",
   "metadata": {},
   "source": [
    "Let's see what happens when we try to check the content of the file:"
   ]
  },
  {
   "cell_type": "code",
   "execution_count": 8,
   "metadata": {},
   "outputs": [
    {
     "name": "stdout",
     "output_type": "stream",
     "text": [
      "cat: /home/neuro/data/datasets.datalad.org/workshops/nih-2017/ds000114/dwi.bval: No such file or directory\r\n"
     ]
    }
   ],
   "source": [
    "!cat ~/data/datasets.datalad.org/workshops/nih-2017/ds000114/dwi.bval"
   ]
  },
  {
   "cell_type": "markdown",
   "metadata": {},
   "source": [
    "We got `No such file or directory`, because we only installed the dataset, but we didn't download anything!"
   ]
  },
  {
   "cell_type": "markdown",
   "metadata": {},
   "source": [
    "### datalad get\n",
    "Let's use datalad to fetch this file and then list it again"
   ]
  },
  {
   "cell_type": "code",
   "execution_count": 9,
   "metadata": {},
   "outputs": [
    {
     "name": "stdout",
     "output_type": "stream",
     "text": [
      "[\u001b[1;33mWARNING\u001b[0m] It is highly recommended to configure git first (set both user.name and user.email) before using DataLad. Failed to verify that git is configured: CommandError: command '['git', 'config', 'user.name']' failed with exitcode 1\n",
      "| Failed to run ['git', 'config', 'user.name'] under None. Exit code=1. out= err= [cmd.py:run:530]CommandError: command '['git', 'config', 'user.email']' failed with exitcode 1\n",
      "| Failed to run ['git', 'config', 'user.email'] under None. Exit code=1. out= err= [cmd.py:run:530].  Some operations might fail or not perform correctly. \n",
      "\u001b[1;1mget\u001b[0m(\u001b[1;32mok\u001b[0m): /home/neuro/data/datasets.datalad.org/workshops/nih-2017/ds000114/dwi.bval (\u001b[1;35mfile\u001b[0m) [from origin...]\n"
     ]
    }
   ],
   "source": [
    "!datalad get ~/data/datasets.datalad.org/workshops/nih-2017/ds000114/dwi.bval"
   ]
  },
  {
   "cell_type": "markdown",
   "metadata": {},
   "source": [
    "and let's try to get the content again"
   ]
  },
  {
   "cell_type": "code",
   "execution_count": 10,
   "metadata": {},
   "outputs": [
    {
     "name": "stdout",
     "output_type": "stream",
     "text": [
      "0 0 0 0 0 0 0 1000 1000 1000 1000 1000 1000 1000 1000 1000 1000 1000 1000 1000 1000 1000 1000 1000 1000 1000 1000 1000 1000 1000 1000 1000 1000 1000 1000 1000 1000 1000 1000 1000 1000 1000 1000 1000 1000 1000 1000 1000 1000 1000 1000 1000 1000 1000 1000 1000 1000 1000 1000 1000 1000 1000 1000 1000 1000 1000 1000 1000 1000 1000 1000 \r\n"
     ]
    }
   ],
   "source": [
    "!cat ~/data/datasets.datalad.org/workshops/nih-2017/ds000114/dwi.bval"
   ]
  },
  {
   "cell_type": "code",
   "execution_count": 11,
   "metadata": {},
   "outputs": [
    {
     "name": "stdout",
     "output_type": "stream",
     "text": [
      "[\u001b[1;33mWARNING\u001b[0m] It is highly recommended to configure git first (set both user.name and user.email) before using DataLad. Failed to verify that git is configured: CommandError: command '['git', 'config', 'user.name']' failed with exitcode 1\n",
      "| Failed to run ['git', 'config', 'user.name'] under None. Exit code=1. out= err= [cmd.py:run:530]CommandError: command '['git', 'config', 'user.email']' failed with exitcode 1\n",
      "| Failed to run ['git', 'config', 'user.email'] under None. Exit code=1. out= err= [cmd.py:run:530].  Some operations might fail or not perform correctly. \n",
      "\u001b[1;4m/home/neuro/data/datasets.datalad.org/workshops/nih-2017/ds000114\u001b[0m   [annex]  master  2.0.1-13-g26d1fc2e0 2018-06-08/11:33:43  \u001b[1;32m✓\u001b[0m\n"
     ]
    }
   ],
   "source": [
    "!datalad ls ~/data/datasets.datalad.org/workshops/nih-2017/ds000114"
   ]
  },
  {
   "cell_type": "markdown",
   "metadata": {},
   "source": [
    "### gitt-annex list\n",
    "\n",
    "Since datalad uses git-annex under the hood, let's try to list things with git-annex. Let's first check the help:"
   ]
  },
  {
   "cell_type": "code",
   "execution_count": 12,
   "metadata": {},
   "outputs": [
    {
     "name": "stdout",
     "output_type": "stream",
     "text": [
      "git-annex list - show which remotes contain files\r\n",
      "\r\n",
      "Usage: git-annex list [PATH ...] [--allrepos]\r\n",
      "\r\n",
      "Available options:\r\n",
      "  --allrepos               show all repositories, not only remotes\r\n",
      "  --force                  allow actions that may lose annexed data\r\n",
      "  -F,--fast                avoid slow operations\r\n",
      "  -q,--quiet               avoid verbose output\r\n",
      "  -v,--verbose             allow verbose output (default)\r\n",
      "  -d,--debug               show debug messages\r\n",
      "  --no-debug               don't show debug messages\r\n",
      "  -b,--backend NAME        specify key-value backend to use\r\n",
      "  -N,--numcopies NUMBER    override default number of copies\r\n",
      "  --trust REMOTE           override trust setting\r\n",
      "  --semitrust REMOTE       override trust setting back to default\r\n",
      "  --untrust REMOTE         override trust setting to untrusted\r\n",
      "  -c,--config NAME=VALUE   override git configuration setting\r\n",
      "  --user-agent NAME        override default User-Agent\r\n",
      "  --trust-glacier          Trust Amazon Glacier inventory\r\n",
      "  --notify-finish          show desktop notification after transfer finishes\r\n",
      "  --notify-start           show desktop notification after transfer starts\r\n",
      "  -i,--in REMOTE           match files present in a remote\r\n",
      "  -C,--copies REMOTE       skip files with fewer copies\r\n",
      "  --lackingcopies NUMBER   match files that need more copies\r\n",
      "  --approxlackingcopies NUMBER\r\n",
      "                           match files that need more copies (faster)\r\n",
      "  -B,--inbackend NAME      match files using a key-value backend\r\n",
      "  --securehash             match files using a cryptographically secure hash\r\n",
      "  --inallgroup GROUP       match files present in all remotes in a group\r\n",
      "  --metadata FIELD=VALUE   match files with attached metadata\r\n",
      "  --want-get               match files the repository wants to get\r\n",
      "  --want-drop              match files the repository wants to drop\r\n",
      "  -x,--exclude GLOB        skip files matching the glob pattern\r\n",
      "  -I,--include GLOB        limit to files matching the glob pattern\r\n",
      "  --largerthan SIZE        match files larger than a size\r\n",
      "  --smallerthan SIZE       match files smaller than a size\r\n",
      "  --not                    negate next option\r\n",
      "  --and                    both previous and next option must match\r\n",
      "  --or                     either previous or next option must match\r\n",
      "  -(                       open group of options\r\n",
      "  -)                       close group of options\r\n",
      "  -T,--time-limit TIME     stop after the specified amount of time\r\n",
      "  -h,--help                Show this help text\r\n",
      "\r\n",
      "For details, run: git-annex help list\r\n"
     ]
    }
   ],
   "source": [
    "!git-annex list --help"
   ]
  },
  {
   "cell_type": "markdown",
   "metadata": {},
   "source": [
    "and try to list all flies from `sub-01` in `ds000114`."
   ]
  },
  {
   "cell_type": "code",
   "execution_count": 13,
   "metadata": {},
   "outputs": [
    {
     "name": "stdout",
     "output_type": "stream",
     "text": [
      "git-annex: Not in a git repository.\r\n"
     ]
    }
   ],
   "source": [
    "!git-annex list ~/data/datasets.datalad.org/workshops/nih-2017/ds000114/sub-01/"
   ]
  },
  {
   "cell_type": "markdown",
   "metadata": {},
   "source": [
    "Oops! Git and datalad don't recognize root folders without pointing to an annex or dataset location."
   ]
  },
  {
   "cell_type": "code",
   "execution_count": 14,
   "metadata": {},
   "outputs": [
    {
     "name": "stdout",
     "output_type": "stream",
     "text": [
      "here\n",
      "|origin\n",
      "||web\n",
      "|||bittorrent\n",
      "||||datalad-archives\n",
      "|||||\n",
      "_XX_X sub-01/ses-retest/anat/sub-01_ses-retest_T1w.nii.gz\n",
      "_XX_X sub-01/ses-retest/dwi/sub-01_ses-retest_dwi.nii.gz\n",
      "_XX_X sub-01/ses-retest/func/sub-01_ses-retest_task-covertverbgeneration_bold.nii.gz\n",
      "_XX_X sub-01/ses-retest/func/sub-01_ses-retest_task-fingerfootlips_bold.nii.gz\n",
      "_XX_X sub-01/ses-retest/func/sub-01_ses-retest_task-linebisection_bold.nii.gz\n",
      "_XX_X sub-01/ses-retest/func/sub-01_ses-retest_task-linebisection_events.tsv\n",
      "_XX_X sub-01/ses-retest/func/sub-01_ses-retest_task-overtverbgeneration_bold.nii.gz\n",
      "_XX_X sub-01/ses-retest/func/sub-01_ses-retest_task-overtwordrepetition_bold.nii.gz\n",
      "_XX_X sub-01/ses-test/anat/sub-01_ses-test_T1w.nii.gz\n",
      "_XX_X sub-01/ses-test/dwi/sub-01_ses-test_dwi.nii.gz\n",
      "_XX_X sub-01/ses-test/func/sub-01_ses-test_task-covertverbgeneration_bold.nii.gz\n",
      "_XX_X sub-01/ses-test/func/sub-01_ses-test_task-fingerfootlips_bold.nii.gz\n",
      "_XX_X sub-01/ses-test/func/sub-01_ses-test_task-linebisection_bold.nii.gz\n",
      "_XX_X sub-01/ses-test/func/sub-01_ses-test_task-linebisection_events.tsv\n",
      "_XX_X sub-01/ses-test/func/sub-01_ses-test_task-overtverbgeneration_bold.nii.gz\n",
      "_XX_X sub-01/ses-test/func/sub-01_ses-test_task-overtwordrepetition_bold.nii.gz\n"
     ]
    }
   ],
   "source": [
    "%%bash \n",
    "cd ~/data/datasets.datalad.org/workshops/nih-2017/ds000114/\n",
    "git-annex list sub-01"
   ]
  },
  {
   "cell_type": "markdown",
   "metadata": {},
   "source": [
    "#### Exercise 6:\n",
    "\n",
    "Show the help for `git annex list` and then use it to list the `dwi*` files in `ds000114`"
   ]
  },
  {
   "cell_type": "code",
   "execution_count": null,
   "metadata": {
    "solution2": "shown",
    "solution2_first": true
   },
   "outputs": [],
   "source": [
    "# type your solution here:"
   ]
  },
  {
   "cell_type": "code",
   "execution_count": 15,
   "metadata": {
    "solution2": "shown"
   },
   "outputs": [
    {
     "name": "stdout",
     "output_type": "stream",
     "text": [
      "here\n",
      "|origin\n",
      "||web\n",
      "|||bittorrent\n",
      "||||datalad-archives\n",
      "|||||\n",
      "XXX_X dwi.bval\n",
      "_XX_X dwi.bvec\n"
     ]
    }
   ],
   "source": [
    "%%bash\n",
    "\n",
    "cd ~/data/datasets.datalad.org/workshops/nih-2017/ds000114/\n",
    "git-annex list dwi.*"
   ]
  },
  {
   "cell_type": "markdown",
   "metadata": {},
   "source": [
    "### datalad drop\n",
    "We can also remove content from our local storage using the `drop` command."
   ]
  },
  {
   "cell_type": "code",
   "execution_count": 16,
   "metadata": {},
   "outputs": [
    {
     "name": "stdout",
     "output_type": "stream",
     "text": [
      "[\u001b[1;33mWARNING\u001b[0m] It is highly recommended to configure git first (set both user.name and user.email) before using DataLad. Failed to verify that git is configured: CommandError: command '['git', 'config', 'user.name']' failed with exitcode 1\n",
      "| Failed to run ['git', 'config', 'user.name'] under None. Exit code=1. out= err= [cmd.py:run:530]CommandError: command '['git', 'config', 'user.email']' failed with exitcode 1\n",
      "| Failed to run ['git', 'config', 'user.email'] under None. Exit code=1. out= err= [cmd.py:run:530].  Some operations might fail or not perform correctly. \n",
      "\u001b[1;1mdrop\u001b[0m(\u001b[1;32mok\u001b[0m): /home/neuro/data/datasets.datalad.org/workshops/nih-2017/ds000114/dwi.bval (\u001b[1;35mfile\u001b[0m) [checking origin...]\n"
     ]
    }
   ],
   "source": [
    "!datalad drop ~/data/datasets.datalad.org/workshops/nih-2017/ds000114/dwi.bval"
   ]
  },
  {
   "cell_type": "markdown",
   "metadata": {},
   "source": [
    "see that the file is still listed under the repository"
   ]
  },
  {
   "cell_type": "code",
   "execution_count": 17,
   "metadata": {},
   "outputs": [
    {
     "name": "stdout",
     "output_type": "stream",
     "text": [
      "total 96\r\n",
      "-rw-r--r-- 1 neuro users  127 Jun 14 06:48 CHANGES\r\n",
      "-rw-r--r-- 1 neuro users  319 Jun 14 06:48 dataset_description.json\r\n",
      "drwxr-xr-x 4 neuro users 4096 Jun 14 06:48 derivatives\r\n",
      "lrwxrwxrwx 1 neuro users  122 Jun 14 06:48 dwi.bval -> .git/annex/objects/JX/4K/MD5E-s335--5bd6fa32ccd0c79e79f9ac63a2c09c1a.bval/MD5E-s335--5bd6fa32ccd0c79e79f9ac63a2c09c1a.bval\r\n",
      "lrwxrwxrwx 1 neuro users  124 Jun 14 06:48 dwi.bvec -> .git/annex/objects/Pg/wk/MD5E-s1248--0641c68ff6ee6164928c984541653430.bvec/MD5E-s1248--0641c68ff6ee6164928c984541653430.bvec\r\n",
      "drwxr-xr-x 4 neuro users 4096 Jun 14 06:48 sub-01\r\n",
      "drwxr-xr-x 4 neuro users 4096 Jun 14 06:48 sub-02\r\n",
      "drwxr-xr-x 4 neuro users 4096 Jun 14 06:48 sub-03\r\n",
      "drwxr-xr-x 4 neuro users 4096 Jun 14 06:48 sub-04\r\n",
      "drwxr-xr-x 4 neuro users 4096 Jun 14 06:48 sub-05\r\n",
      "drwxr-xr-x 4 neuro users 4096 Jun 14 06:48 sub-06\r\n",
      "drwxr-xr-x 4 neuro users 4096 Jun 14 06:48 sub-07\r\n",
      "drwxr-xr-x 4 neuro users 4096 Jun 14 06:48 sub-08\r\n",
      "drwxr-xr-x 4 neuro users 4096 Jun 14 06:48 sub-09\r\n",
      "drwxr-xr-x 4 neuro users 4096 Jun 14 06:48 sub-10\r\n",
      "-rw-r--r-- 1 neuro users  905 Jun 14 06:48 task-covertverbgeneration_bold.json\r\n",
      "-rw-r--r-- 1 neuro users  143 Jun 14 06:48 task-covertverbgeneration_events.tsv\r\n",
      "-rw-r--r-- 1 neuro users  899 Jun 14 06:48 task-fingerfootlips_bold.json\r\n",
      "-rw-r--r-- 1 neuro users  280 Jun 14 06:48 task-fingerfootlips_events.tsv\r\n",
      "-rw-r--r-- 1 neuro users  897 Jun 14 06:48 task-linebisection_bold.json\r\n",
      "-rw-r--r-- 1 neuro users  904 Jun 14 06:48 task-overtverbgeneration_bold.json\r\n",
      "-rw-r--r-- 1 neuro users  143 Jun 14 06:48 task-overtverbgeneration_events.tsv\r\n",
      "-rw-r--r-- 1 neuro users  904 Jun 14 06:48 task-overtwordrepetition_bold.json\r\n",
      "-rw-r--r-- 1 neuro users  127 Jun 14 06:48 task-overtwordrepetition_events.tsv\r\n"
     ]
    }
   ],
   "source": [
    "! ls -l ~/data/datasets.datalad.org/workshops/nih-2017/ds000114/"
   ]
  },
  {
   "cell_type": "markdown",
   "metadata": {},
   "source": [
    "but we can't access the content again:"
   ]
  },
  {
   "cell_type": "code",
   "execution_count": 18,
   "metadata": {},
   "outputs": [
    {
     "name": "stdout",
     "output_type": "stream",
     "text": [
      "cat: /home/neuro/data/datasets.datalad.org/workshops/nih-2017/ds000114/dwi.bval: No such file or directory\r\n"
     ]
    }
   ],
   "source": [
    "! cat ~/data/datasets.datalad.org/workshops/nih-2017/ds000114/dwi.bval"
   ]
  },
  {
   "cell_type": "markdown",
   "metadata": {},
   "source": [
    "#### Exercise 7:\n",
    "\n",
    "Check where the dwi files are with the annex list command and get the missing files"
   ]
  },
  {
   "cell_type": "code",
   "execution_count": null,
   "metadata": {
    "solution2": "hidden",
    "solution2_first": true
   },
   "outputs": [],
   "source": [
    "#type your code here:"
   ]
  },
  {
   "cell_type": "code",
   "execution_count": null,
   "metadata": {
    "scrolled": true,
    "solution2": "hidden"
   },
   "outputs": [],
   "source": [
    "%%bash\n",
    "\n",
    "cd ~/data/datasets.datalad.org/workshops/nih-2017/ds000114/\n",
    "git-annex list dwi.*"
   ]
  },
  {
   "cell_type": "code",
   "execution_count": null,
   "metadata": {
    "scrolled": true,
    "solution2": "hidden"
   },
   "outputs": [],
   "source": [
    "%%bash\n",
    "datalad get ~/data/datasets.datalad.org/workshops/nih-2017/ds000114/dwi.*"
   ]
  },
  {
   "cell_type": "markdown",
   "metadata": {},
   "source": [
    "## Creating and versioning our own dataset"
   ]
  },
  {
   "cell_type": "markdown",
   "metadata": {},
   "source": [
    "### datalad create\n",
    "Let's create dataset called `mydataset`"
   ]
  },
  {
   "cell_type": "code",
   "execution_count": null,
   "metadata": {},
   "outputs": [],
   "source": [
    "!datalad create ~/data/mydataset"
   ]
  },
  {
   "cell_type": "markdown",
   "metadata": {},
   "source": [
    "We will create a dummy file and add it to the dataset"
   ]
  },
  {
   "cell_type": "code",
   "execution_count": null,
   "metadata": {},
   "outputs": [],
   "source": [
    "%%bash \n",
    "\n",
    "echo \"123\" > ~/data/mydataset/123\n",
    "datalad add -m \"initial file\" ~/data/mydataset/123"
   ]
  },
  {
   "cell_type": "markdown",
   "metadata": {},
   "source": [
    "list where the copy is available"
   ]
  },
  {
   "cell_type": "code",
   "execution_count": null,
   "metadata": {},
   "outputs": [],
   "source": [
    "%%bash\n",
    "\n",
    "cd ~/data/mydataset\n",
    "git-annex list"
   ]
  },
  {
   "cell_type": "code",
   "execution_count": null,
   "metadata": {},
   "outputs": [],
   "source": [
    "!tree ~/data/mydataset"
   ]
  },
  {
   "cell_type": "code",
   "execution_count": null,
   "metadata": {},
   "outputs": [],
   "source": [
    "!cat ~/data/mydataset/.git/annex/objects/pF/Zf/MD5E-s4--ba1f2511fc30423bdbb183fe33f3dd0f/MD5E-s4--ba1f2511fc30423bdbb183fe33f3dd0f"
   ]
  },
  {
   "cell_type": "markdown",
   "metadata": {},
   "source": [
    "Let us try removing the data"
   ]
  },
  {
   "cell_type": "code",
   "execution_count": null,
   "metadata": {},
   "outputs": [],
   "source": [
    "!datalad drop ~/data/mydataset/123"
   ]
  },
  {
   "cell_type": "markdown",
   "metadata": {},
   "source": [
    "Datalad will prevent from doing this, because this is the only copy of the file. It will also not allow to modify the file so easily:"
   ]
  },
  {
   "cell_type": "code",
   "execution_count": null,
   "metadata": {},
   "outputs": [],
   "source": [
    "!echo \"321\" > ~/data/mydataset/123"
   ]
  },
  {
   "cell_type": "markdown",
   "metadata": {},
   "source": [
    "If we really want to change the content of the file, we have to unlock the file first. After changes we should commit it back:"
   ]
  },
  {
   "cell_type": "code",
   "execution_count": null,
   "metadata": {},
   "outputs": [],
   "source": [
    "%%bash\n",
    "\n",
    "datalad unlock ~/data/mydataset/123\n",
    "echo \"321\" > ~/data/mydataset/123\n",
    "datalad add -m \"add modified file\" ~/data/mydataset/123"
   ]
  },
  {
   "cell_type": "markdown",
   "metadata": {},
   "source": [
    "If we try modifying it, we now again get permission denied, because the file is locked."
   ]
  },
  {
   "cell_type": "code",
   "execution_count": null,
   "metadata": {},
   "outputs": [],
   "source": [
    "!echo \"123\" > ~/data/mydataset/123"
   ]
  },
  {
   "cell_type": "code",
   "execution_count": null,
   "metadata": {},
   "outputs": [],
   "source": [
    "!tree ~/data/mydataset"
   ]
  },
  {
   "cell_type": "code",
   "execution_count": null,
   "metadata": {},
   "outputs": [],
   "source": [
    "!cat ~/data/mydataset/.git/annex/objects/6v/gZ/MD5E-s4--9492fe88f263d58e0b686885e8c98c0e/MD5E-s4--9492fe88f263d58e0b686885e8c98c0e"
   ]
  },
  {
   "cell_type": "markdown",
   "metadata": {},
   "source": [
    "But the old object is still there. "
   ]
  },
  {
   "cell_type": "code",
   "execution_count": null,
   "metadata": {},
   "outputs": [],
   "source": [
    "!cat ~/data/mydataset/.git/annex/objects/pF/Zf/MD5E-s4--ba1f2511fc30423bdbb183fe33f3dd0f/MD5E-s4--ba1f2511fc30423bdbb183fe33f3dd0f"
   ]
  },
  {
   "cell_type": "markdown",
   "metadata": {},
   "source": [
    "The entire history of the repo is available."
   ]
  },
  {
   "cell_type": "code",
   "execution_count": null,
   "metadata": {},
   "outputs": [],
   "source": [
    "%%bash \n",
    "\n",
    "cd ~/data/mydataset/\n",
    "git log"
   ]
  },
  {
   "cell_type": "markdown",
   "metadata": {},
   "source": [
    "Let us create a simple script that counts the number of characters in a file"
   ]
  },
  {
   "cell_type": "code",
   "execution_count": null,
   "metadata": {},
   "outputs": [],
   "source": [
    "%%bash\n",
    "\n",
    "cd ~/data/mydataset\n",
    "mkdir -p scripts\n",
    "cmd=$(cat << EOM\n",
    "#!/bin/bash\\ncat \\$1 | wc -c\n",
    "EOM\n",
    ")\n",
    "echo -e $cmd > scripts/run.sh\n",
    "chmod +x scripts/run.sh\n",
    "cat scripts/run.sh"
   ]
  },
  {
   "cell_type": "markdown",
   "metadata": {},
   "source": [
    "Now we will run the script and add the script and the output to annex."
   ]
  },
  {
   "cell_type": "code",
   "execution_count": null,
   "metadata": {},
   "outputs": [],
   "source": [
    "%%bash\n",
    "cd ~/data/mydataset\n",
    "scripts/run.sh 123 > out\n",
    "datalad add -m \"Added scripts and output\" out scripts"
   ]
  },
  {
   "cell_type": "markdown",
   "metadata": {},
   "source": [
    "We can look at the log again"
   ]
  },
  {
   "cell_type": "code",
   "execution_count": null,
   "metadata": {},
   "outputs": [],
   "source": [
    "%%bash \n",
    "\n",
    "cd ~/data/mydataset/\n",
    "git log"
   ]
  },
  {
   "cell_type": "markdown",
   "metadata": {},
   "source": [
    "We can go back to a previous state and check the contents of the `123` file. Note that we return back to current state after this excursion."
   ]
  },
  {
   "cell_type": "code",
   "execution_count": null,
   "metadata": {},
   "outputs": [],
   "source": [
    "%%bash\n",
    "\n",
    "tree ~/data/mydataset/"
   ]
  },
  {
   "cell_type": "markdown",
   "metadata": {
    "solution2": "hidden",
    "solution2_first": true
   },
   "source": [
    "## Exercise 8:\n",
    "\n",
    "- Copy one binary brainmask image file from ds000114/derivatives/fmriprep into mydataset\n",
    "  - To do so first you should install the dataset recursively\n",
    "  - And then get the file\n",
    "- Add to version control\n",
    "- use git-annex to list where that file can be found\n",
    "- Add a simple python script to count and print the number of non-zero voxels\n",
    "- Store the output into a new out file\n",
    "- Use datalad to add everything to the repository"
   ]
  },
  {
   "cell_type": "code",
   "execution_count": null,
   "metadata": {
    "solution2": "hidden"
   },
   "outputs": [],
   "source": [
    "%%bash\n",
    "\n",
    "datalad install -r ~/data/datasets.datalad.org/workshops/nih-2017/ds000114/derivatives/fmriprep/\n",
    "tree -L 1 ~/data/datasets.datalad.org/workshops/nih-2017/ds000114/derivatives/fmriprep/"
   ]
  },
  {
   "cell_type": "code",
   "execution_count": null,
   "metadata": {
    "solution2": "hidden"
   },
   "outputs": [],
   "source": [
    "%%bash\n",
    "\n",
    "tree -L 1 ~/data/datasets.datalad.org/workshops/nih-2017/ds000114/derivatives/fmriprep/sub-01/anat/"
   ]
  },
  {
   "cell_type": "code",
   "execution_count": null,
   "metadata": {
    "solution2": "hidden"
   },
   "outputs": [],
   "source": [
    "%%bash\n",
    "\n",
    "datalad get ~/data/datasets.datalad.org/workshops/nih-2017/ds000114/derivatives/fmriprep/sub-01/anat/sub-01_t1w_brainmask.nii.gz\n",
    "cp ~/data/datasets.datalad.org/workshops/nih-2017/ds000114/derivatives/fmriprep/sub-01/anat/sub-01_t1w_brainmask.nii.gz \\\n",
    "   ~/data/mydataset/brainmask.nii.gz"
   ]
  },
  {
   "cell_type": "code",
   "execution_count": null,
   "metadata": {
    "solution2": "hidden"
   },
   "outputs": [],
   "source": [
    "%%writefile ~/data/mydataset/scripts/count_voxels.py\n",
    "\n",
    "import nibabel as nb\n",
    "import sys\n",
    "print(nb.load(sys.argv[1]).get_data().sum())"
   ]
  },
  {
   "cell_type": "code",
   "execution_count": null,
   "metadata": {
    "solution2": "hidden"
   },
   "outputs": [],
   "source": [
    "%%bash\n",
    "\n",
    "cd ~/data/mydataset/\n",
    "python scripts/count_voxels.py brainmask.nii.gz > mask_count"
   ]
  },
  {
   "cell_type": "code",
   "execution_count": null,
   "metadata": {
    "solution2": "hidden"
   },
   "outputs": [],
   "source": [
    "%%bash\n",
    "\n",
    "tree ~/data/mydataset/"
   ]
  },
  {
   "cell_type": "code",
   "execution_count": null,
   "metadata": {
    "solution2": "hidden"
   },
   "outputs": [],
   "source": [
    "%%bash\n",
    "\n",
    "cd ~/data/mydataset/\n",
    "datalad add -m \"added brainmask, script, and output\" brainmask.nii.gz scripts/count_voxels.py mask_count"
   ]
  },
  {
   "cell_type": "code",
   "execution_count": null,
   "metadata": {
    "solution2": "hidden"
   },
   "outputs": [],
   "source": [
    "%%bash\n",
    "cd ~/data/mydataset/\n",
    "git-annex whereis brainmask.nii.gz"
   ]
  }
 ],
 "metadata": {
  "kernelspec": {
   "display_name": "Python 3",
   "language": "python",
   "name": "python3"
  },
  "language_info": {
   "codemirror_mode": {
    "name": "ipython",
    "version": 3
   },
   "file_extension": ".py",
   "mimetype": "text/x-python",
   "name": "python",
   "nbconvert_exporter": "python",
   "pygments_lexer": "ipython3",
   "version": "3.6.5"
  }
 },
 "nbformat": 4,
 "nbformat_minor": 2
}
